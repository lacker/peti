{
 "cells": [
  {
   "cell_type": "code",
   "execution_count": 1,
   "id": "eeb20bb1",
   "metadata": {},
   "outputs": [],
   "source": [
    "%load_ext autoreload\n",
    "%autoreload 2\n",
    "from matplotlib import pyplot as plt\n",
    "\n",
    "from filtering import *"
   ]
  },
  {
   "cell_type": "code",
   "execution_count": 2,
   "id": "eb8abcd6",
   "metadata": {},
   "outputs": [],
   "source": [
    "FILE = \"/datag/pipeline/AGBT21A_996_47/blc04/blc04_guppi_59405_57552_NGC1407_0068.rawspec.0000.h5\"\n",
    "f = File(FILE)"
   ]
  },
  {
   "cell_type": "code",
   "execution_count": 68,
   "id": "436328d2",
   "metadata": {},
   "outputs": [
    {
     "name": "stdout",
     "output_type": "stream",
     "text": [
      "[16 hits @ 168664-168666, 2 hits @ 228655-228665, 2 hits @ 424699-424708, 3 hits @ 473652, 9 hits @ 474878-474879, 15 hits @ 489721-489722, 33 hits @ 509592-509601, 2 hits @ 512951-512957, 3 hits @ 515189-515194, 4 hits @ 515207-515221, 12 hits @ 521998-521999, 2 hits @ 522698, 16 hits @ 522735, 3 hits @ 523834-523837, 31 hits @ 524059-524068, 16 hits @ 524277-524278, 16 hits @ 524298-524300, 13 hits @ 524324-524351, 29 hits @ 524508-524517, 6 hits @ 524975-524977, 16 hits @ 525153-525155, 16 hits @ 525509-525511, 15 hits @ 525865-525867, 16 hits @ 526007-526009, 15 hits @ 526078-526080, 16 hits @ 526149-526151, 15 hits @ 526221-526223, 3 hits @ 526295-526304, 10 hits @ 526399-526400, 48 hits @ 526565-526589, 3 hits @ 526755, 25 hits @ 526933-526962, 16 hits @ 527004-527005, 13 hits @ 527075-527076, 16 hits @ 527146-527148, 15 hits @ 527289-527290, 16 hits @ 527644-527646, 16 hits @ 528000-528002, 7 hits @ 528179, 2 hits @ 528357, 2 hits @ 528713, 10 hits @ 529068-529069, 16 hits @ 529424-529425, 19 hits @ 530837-530858, 11 hits @ 533479, 10 hits @ 539297-539298, 16 hits @ 541642-541650, 16 hits @ 884489-884491]\n"
     ]
    }
   ],
   "source": [
    "z = f.get_chunk(0)\n",
    "groups = f.process_chunk(z)\n",
    "print(groups)"
   ]
  },
  {
   "cell_type": "code",
   "execution_count": 69,
   "id": "0fc236c0",
   "metadata": {},
   "outputs": [],
   "source": [
    "def show(group):\n",
    "    region = group.region()\n",
    "    plt.figure(figsize=region.shape)\n",
    "    plt.imshow(region, rasterized=True, interpolation=\"nearest\", cmap=\"viridis\")"
   ]
  },
  {
   "cell_type": "code",
   "execution_count": 70,
   "id": "d244d0ff",
   "metadata": {},
   "outputs": [],
   "source": [
    "i = 0"
   ]
  },
  {
   "cell_type": "code",
   "execution_count": 73,
   "id": "9359a8e3",
   "metadata": {},
   "outputs": [
    {
     "name": "stdout",
     "output_type": "stream",
     "text": [
      "3 / 48\n",
      "3 hits @ 473652\n"
     ]
    },
    {
     "data": {
      "image/png": "[encoded data removed]",
      "text/plain": [
       "<Figure size 1152x5760 with 1 Axes>"
      ]
     },
     "metadata": {
      "needs_background": "light"
     },
     "output_type": "display_data"
    }
   ],
   "source": [
    "i = (i + 1) % len(groups)\n",
    "print(i, \"/\", len(groups))\n",
    "print(groups[i])\n",
    "show(groups[i])"
   ]
  },
  {
   "cell_type": "code",
   "execution_count": null,
   "id": "1561f08c",
   "metadata": {},
   "outputs": [],
   "source": []
  }
 ],
 "metadata": {
  "kernelspec": {
   "display_name": "Python 3 (ipykernel)",
   "language": "python",
   "name": "python3"
  },
  "language_info": {
   "codemirror_mode": {
    "name": "ipython",
    "version": 3
   },
   "file_extension": ".py",
   "mimetype": "text/x-python",
   "name": "python",
   "nbconvert_exporter": "python",
   "pygments_lexer": "ipython3",
   "version": "3.8.8"
  }
 },
 "nbformat": 4,
 "nbformat_minor": 5
}
