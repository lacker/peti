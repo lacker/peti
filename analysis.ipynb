{
 "cells": [
  {
   "cell_type": "code",
   "execution_count": 1,
   "id": "eeb20bb1",
   "metadata": {},
   "outputs": [],
   "source": [
    "%load_ext autoreload\n",
    "%autoreload 2\n",
    "%matplotlib inline\n",
    "from matplotlib import pyplot as plt\n",
    "\n",
    "from filtering import *"
   ]
  },
  {
   "cell_type": "code",
   "execution_count": 2,
   "id": "eb8abcd6",
   "metadata": {},
   "outputs": [],
   "source": [
    "FILE = \"/datag/pipeline/AGBT21A_996_47/blc04/blc04_guppi_59405_57552_NGC1407_0068.rawspec.0000.h5\"\n",
    "f = File(FILE)"
   ]
  },
  {
   "cell_type": "code",
   "execution_count": 5,
   "id": "436328d2",
   "metadata": {},
   "outputs": [
    {
     "name": "stdout",
     "output_type": "stream",
     "text": [
      "[12 hits @ 168664-168666, 9 hits @ 489721-489722, 9 hits @ 509594-509599, blip(14, 521998), 16 hits @ 522735, 9 hits @ 524061-524067, 16 hits @ 524278, 16 hits @ 524298, 12 hits @ 524509-524515, 4 hits @ 525153-525155, 2 hits @ 525509-525511, 2 hits @ 525865-525866, 10 hits @ 526007-526009, 2 hits @ 526079, 4 hits @ 526150-526151, 3 hits @ 526221-526222, 41 hits @ 526566-526588, blip(3, 526939), blip(13, 526958), 10 hits @ 527004-527005, 11 hits @ 527146-527147, 8 hits @ 527289, 10 hits @ 527645, 10 hits @ 528001, blip(6, 529424), 15 hits @ 530848-530849, 16 hits @ 541643-541649, 13 hits @ 884489-884491]\n"
     ]
    }
   ],
   "source": [
    "z = f.get_chunk(0)\n",
    "groups = f.process_chunk(z)\n",
    "print(groups)"
   ]
  },
  {
   "cell_type": "code",
   "execution_count": 10,
   "id": "e8f6c8d2",
   "metadata": {},
   "outputs": [],
   "source": [
    "group = groups[2]\n",
    "width = 100\n",
    "offset = group.find_offset(width)\n",
    "region = group.data[:, offset:offset+width]"
   ]
  },
  {
   "cell_type": "code",
   "execution_count": 14,
   "id": "0fc236c0",
   "metadata": {},
   "outputs": [
    {
     "data": {
      "text/plain": [
       "<matplotlib.image.AxesImage at 0x7fbc23bddaf0>"
      ]
     },
     "execution_count": 14,
     "metadata": {},
     "output_type": "execute_result"
    },
    {
     "data": {
      "image/png": "[encoded data removed]",
      "text/plain": [
       "<Figure size 432x288 with 1 Axes>"
      ]
     },
     "metadata": {
      "needs_background": "light"
     },
     "output_type": "display_data"
    }
   ],
   "source": [
    "rmin = region.min()\n",
    "rmax = region.max()\n",
    "normal = (region - rmin) / (rmax - rmin)\n",
    "plt.imshow(normal, aspect=\"auto\", rasterized=True, interpolation=\"nearest\", cmap=\"viridis\")"
   ]
  },
  {
   "cell_type": "code",
   "execution_count": 15,
   "id": "e12e9f26",
   "metadata": {},
   "outputs": [
    {
     "data": {
      "text/plain": [
       "9 hits @ 509594-509599"
      ]
     },
     "execution_count": 15,
     "metadata": {},
     "output_type": "execute_result"
    }
   ],
   "source": [
    "group"
   ]
  },
  {
   "cell_type": "code",
   "execution_count": 16,
   "id": "d5286445",
   "metadata": {},
   "outputs": [
    {
     "data": {
      "text/plain": [
       "array([[0.10617557, 0.16231418, 0.1002637 , 0.10200485, 0.18124303,\n",
       "        0.25501305, 0.26540765, 0.76495826, 0.13127922, 0.28349856,\n",
       "        0.11954895, 0.14880478, 0.20653115, 0.06983481, 0.12919015,\n",
       "        0.1406088 , 0.13223907, 0.08231917, 0.1361801 , 0.10567906],\n",
       "       [0.0986445 , 0.08201803, 0.12056297, 0.16210762, 0.19319202,\n",
       "        0.33327496, 0.3199099 , 0.6217122 , 0.22652137, 0.39055213,\n",
       "        0.08791882, 0.14014412, 0.19898172, 0.03879651, 0.07217108,\n",
       "        0.16683808, 0.0999634 , 0.11004571, 0.12624831, 0.17580286],\n",
       "       [0.0812787 , 0.09835915, 0.06700552, 0.17626874, 0.04352707,\n",
       "        0.35446808, 0.14642291, 0.6794201 , 0.14806499, 0.28565326,\n",
       "        0.17938313, 0.19368298, 0.14119926, 0.17477788, 0.06439395,\n",
       "        0.12003594, 0.13334008, 0.08521014, 0.08351021, 0.07543226],\n",
       "       [0.10236092, 0.11545332, 0.08333427, 0.1783846 , 0.0952941 ,\n",
       "        0.26630443, 0.2750138 , 0.5365538 , 0.15340547, 0.18107875,\n",
       "        0.1348342 , 0.04911055, 0.1545057 , 0.02895516, 0.14693272,\n",
       "        0.0608526 , 0.13414387, 0.10167614, 0.14751837, 0.11451617],\n",
       "       [0.08153956, 0.11560757, 0.16710801, 0.1023866 , 0.13190779,\n",
       "        0.36156875, 0.21371818, 0.38620922, 0.46168512, 0.18440455,\n",
       "        0.3171612 , 0.12621363, 0.08111969, 0.12381282, 0.07285994,\n",
       "        0.06251279, 0.06366401, 0.10370813, 0.10248268, 0.13534647],\n",
       "       [0.08881896, 0.15568961, 0.04529455, 0.20430571, 0.08747641,\n",
       "        0.21042025, 0.26078472, 0.20099746, 0.6158897 , 0.17150898,\n",
       "        0.37952384, 0.11094949, 0.07861187, 0.10571678, 0.06101626,\n",
       "        0.12363843, 0.1336464 , 0.06291721, 0.1327685 , 0.09713711],\n",
       "       [0.09640569, 0.13294101, 0.0981068 , 0.15669166, 0.10225719,\n",
       "        0.10180964, 0.3728067 , 0.20993237, 0.758185  , 0.10487889,\n",
       "        0.41946882, 0.1549131 , 0.09658288, 0.08818606, 0.10873464,\n",
       "        0.10319448, 0.13061172, 0.10401853, 0.10795015, 0.16912723],\n",
       "       [0.0731195 , 0.06893321, 0.1325013 , 0.14310144, 0.13080463,\n",
       "        0.07160547, 0.26883447, 0.21474192, 0.4758627 , 0.39319417,\n",
       "        0.29283342, 0.27743798, 0.18503664, 0.15099631, 0.09936101,\n",
       "        0.1307833 , 0.15050532, 0.08787823, 0.11482774, 0.09850559],\n",
       "       [0.06056476, 0.12921102, 0.15708344, 0.11067935, 0.12680578,\n",
       "        0.07274635, 0.12690453, 0.38872823, 0.14394583, 0.71400386,\n",
       "        0.14971909, 0.3318452 , 0.13775304, 0.22058922, 0.16476059,\n",
       "        0.08568001, 0.07946263, 0.09243709, 0.10377674, 0.09413406],\n",
       "       [0.1036175 , 0.1076614 , 0.10423441, 0.03372261, 0.11226433,\n",
       "        0.08684394, 0.13445242, 0.46543103, 0.14004317, 0.8220666 ,\n",
       "        0.28799936, 0.33792016, 0.1764174 , 0.18933521, 0.12863024,\n",
       "        0.07269376, 0.12901604, 0.08351524, 0.12489001, 0.10062443],\n",
       "       [0.1375562 , 0.07807277, 0.13074483, 0.137903  , 0.13984242,\n",
       "        0.15680914, 0.21455719, 0.35094616, 0.22409931, 0.4744581 ,\n",
       "        0.5913941 , 0.25745708, 0.3622938 , 0.09742617, 0.13139443,\n",
       "        0.05685563, 0.08739427, 0.09236705, 0.08630209, 0.11734781],\n",
       "       [0.10566204, 0.082195  , 0.08831666, 0.03679324, 0.09696747,\n",
       "        0.16541603, 0.14988066, 0.13744415, 0.3685068 , 0.11855326,\n",
       "        0.9079112 , 0.15498076, 0.38455957, 0.1621767 , 0.15713274,\n",
       "        0.20960462, 0.17577411, 0.08759772, 0.0583577 , 0.13466825],\n",
       "       [0.1397274 , 0.07105562, 0.10391504, 0.11220939, 0.11477618,\n",
       "        0.13954751, 0.10355587, 0.17066972, 0.38685825, 0.20999847,\n",
       "        0.603949  , 0.5298871 , 0.23073663, 0.34859398, 0.12196183,\n",
       "        0.1954549 , 0.08996716, 0.06254653, 0.11774964, 0.06351008],\n",
       "       [0.16263415, 0.0821813 , 0.07258363, 0.15678976, 0.0607149 ,\n",
       "        0.10828105, 0.0567725 , 0.18966265, 0.1733896 , 0.4569424 ,\n",
       "        0.18968399, 0.91747403, 0.175097  , 0.51510143, 0.10186904,\n",
       "        0.11416865, 0.19137445, 0.13772549, 0.11446796, 0.11194297],\n",
       "       [0.1244529 , 0.07215284, 0.14369285, 0.18482062, 0.08554503,\n",
       "        0.06765357, 0.123512  , 0.18927695, 0.11610532, 0.4355414 ,\n",
       "        0.18155052, 0.7262802 , 0.27840266, 0.28077465, 0.32059038,\n",
       "        0.10441295, 0.15017338, 0.17317812, 0.13581951, 0.14618857],\n",
       "       [0.16075176, 0.15761565, 0.18846752, 0.08975442, 0.09224514,\n",
       "        0.14105016, 0.07610047, 0.13016433, 0.17036493, 0.12563765,\n",
       "        0.50347507, 0.25630075, 1.        , 0.23798908, 0.4656373 ,\n",
       "        0.18378964, 0.18310927, 0.15000889, 0.12706387, 0.11741238]],\n",
       "      dtype=float32)"
      ]
     },
     "execution_count": 16,
     "metadata": {},
     "output_type": "execute_result"
    }
   ],
   "source": [
    "normal[:, 40:60]"
   ]
  },
  {
   "cell_type": "code",
   "execution_count": null,
   "id": "d8c3517e",
   "metadata": {},
   "outputs": [],
   "source": []
  }
 ],
 "metadata": {
  "kernelspec": {
   "display_name": "Python 3 (ipykernel)",
   "language": "python",
   "name": "python3"
  },
  "language_info": {
   "codemirror_mode": {
    "name": "ipython",
    "version": 3
   },
   "file_extension": ".py",
   "mimetype": "text/x-python",
   "name": "python",
   "nbconvert_exporter": "python",
   "pygments_lexer": "ipython3",
   "version": "3.8.8"
  }
 },
 "nbformat": 4,
 "nbformat_minor": 5
}
