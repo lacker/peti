{
 "cells": [
  {
   "cell_type": "code",
   "execution_count": 90,
   "id": "eeb20bb1",
   "metadata": {},
   "outputs": [
    {
     "name": "stdout",
     "output_type": "stream",
     "text": [
      "The autoreload extension is already loaded. To reload it, use:\n",
      "  %reload_ext autoreload\n"
     ]
    }
   ],
   "source": [
    "%load_ext autoreload\n",
    "%autoreload 2\n",
    "from matplotlib import pyplot as plt\n",
    "\n",
    "from filtering import *"
   ]
  },
  {
   "cell_type": "code",
   "execution_count": 2,
   "id": "eb8abcd6",
   "metadata": {},
   "outputs": [],
   "source": [
    "FILE = \"/datag/pipeline/AGBT21A_996_47/blc04/blc04_guppi_59405_57552_NGC1407_0068.rawspec.0000.h5\"\n",
    "f = File(FILE)"
   ]
  },
  {
   "cell_type": "code",
   "execution_count": 3,
   "id": "436328d2",
   "metadata": {},
   "outputs": [
    {
     "name": "stdout",
     "output_type": "stream",
     "text": [
      "[12 hits @ 168664-168666, 9 hits @ 489721-489722, 9 hits @ 509594-509599, blip(14, 521998), 16 hits @ 522735, 9 hits @ 524061-524067, 16 hits @ 524278, 16 hits @ 524298, 12 hits @ 524509-524515, 4 hits @ 525153-525155, 2 hits @ 525509-525511, 2 hits @ 525865-525866, 10 hits @ 526007-526009, 2 hits @ 526079, 4 hits @ 526150-526151, 3 hits @ 526221-526222, 41 hits @ 526566-526588, blip(3, 526939), blip(13, 526958), 10 hits @ 527004-527005, 11 hits @ 527146-527147, 8 hits @ 527289, 10 hits @ 527645, 10 hits @ 528001, blip(6, 529424), 15 hits @ 530848-530849, 16 hits @ 541643-541649, 13 hits @ 884489-884491]\n"
     ]
    }
   ],
   "source": [
    "z = f.get_chunk(0)\n",
    "groups = f.process_chunk(z)\n",
    "print(groups)"
   ]
  },
  {
   "cell_type": "code",
   "execution_count": 26,
   "id": "0fc236c0",
   "metadata": {},
   "outputs": [],
   "source": [
    "def show(group):\n",
    "    region = group.region()\n",
    "    plt.figure(figsize=region.shape)\n",
    "    plt.imshow(region, rasterized=True, interpolation=\"nearest\", cmap=\"viridis\")"
   ]
  },
  {
   "cell_type": "code",
   "execution_count": 36,
   "id": "c6704306",
   "metadata": {},
   "outputs": [],
   "source": [
    "i = 0"
   ]
  },
  {
   "cell_type": "code",
   "execution_count": 76,
   "id": "c9a95219",
   "metadata": {},
   "outputs": [
    {
     "name": "stdout",
     "output_type": "stream",
     "text": [
      "8\n",
      "12 hits @ 524509-524515\n"
     ]
    },
    {
     "data": {
      "image/png": "[encoded data removed]",
      "text/plain": [
       "<Figure size 1152x5760 with 1 Axes>"
      ]
     },
     "metadata": {
      "needs_background": "light"
     },
     "output_type": "display_data"
    }
   ],
   "source": [
    "i = (i + 1) % len(groups)\n",
    "print(i)\n",
    "print(groups[i])\n",
    "show(groups[i])"
   ]
  },
  {
   "cell_type": "code",
   "execution_count": null,
   "id": "5cc6e0a1",
   "metadata": {},
   "outputs": [],
   "source": []
  }
 ],
 "metadata": {
  "kernelspec": {
   "display_name": "Python 3 (ipykernel)",
   "language": "python",
   "name": "python3"
  },
  "language_info": {
   "codemirror_mode": {
    "name": "ipython",
    "version": 3
   },
   "file_extension": ".py",
   "mimetype": "text/x-python",
   "name": "python",
   "nbconvert_exporter": "python",
   "pygments_lexer": "ipython3",
   "version": "3.8.8"
  }
 },
 "nbformat": 4,
 "nbformat_minor": 5
}
