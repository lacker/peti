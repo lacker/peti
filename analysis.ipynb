{
 "cells": [
  {
   "cell_type": "code",
   "execution_count": 1,
   "id": "eeb20bb1",
   "metadata": {},
   "outputs": [],
   "source": [
    "%load_ext autoreload\n",
    "%autoreload 2\n",
    "%matplotlib inline\n",
    "from matplotlib import pyplot as plt\n",
    "\n",
    "from filtering import *"
   ]
  },
  {
   "cell_type": "code",
   "execution_count": 5,
   "id": "eb8abcd6",
   "metadata": {},
   "outputs": [],
   "source": [
    "FILE = \"/datag/pipeline/AGBT21A_996_47/blc04/blc04_guppi_59405_57552_NGC1407_0068.rawspec.0000.h5\"\n",
    "f = File(FILE)"
   ]
  },
  {
   "cell_type": "code",
   "execution_count": null,
   "id": "436328d2",
   "metadata": {},
   "outputs": [],
   "source": []
  }
 ],
 "metadata": {
  "kernelspec": {
   "display_name": "Python 3 (ipykernel)",
   "language": "python",
   "name": "python3"
  },
  "language_info": {
   "codemirror_mode": {
    "name": "ipython",
    "version": 3
   },
   "file_extension": ".py",
   "mimetype": "text/x-python",
   "name": "python",
   "nbconvert_exporter": "python",
   "pygments_lexer": "ipython3",
   "version": "3.8.8"
  }
 },
 "nbformat": 4,
 "nbformat_minor": 5
}
